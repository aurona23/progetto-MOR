{
  "nbformat": 4,
  "nbformat_minor": 0,
  "metadata": {
    "colab": {
      "provenance": [],
      "gpuType": "T4"
    },
    "kernelspec": {
      "name": "python3",
      "display_name": "Python 3"
    },
    "language_info": {
      "name": "python"
    },
    "accelerator": "GPU"
  },
  "cells": [
    {
      "cell_type": "code",
      "execution_count": 2,
      "metadata": {
        "id": "jVmn8NGPocrV"
      },
      "outputs": [],
      "source": [
        "import torch.nn as nn\n",
        "import torch\n",
        "import torch\n",
        "import torch.nn as nn\n",
        "import numpy as np\n",
        "import torch\n",
        "import matplotlib.pyplot as plt\n",
        "from matplotlib import cm\n",
        "import random\n",
        "from torch.optim.lr_scheduler import LambdaLR\n",
        "import os\n",
        "import random\n",
        "import time\n",
        "import csv\n",
        "\n",
        "\n",
        "class Net11(nn.Module):\n",
        "    def __init__(self):\n",
        "        super().__init__()\n",
        "\n",
        "        self.fc_in = nn.Linear(4, 256)\n",
        "\n",
        "        # blocco 1\n",
        "        self.b1_1 = nn.Linear(256, 256)\n",
        "        self.b1_2 = nn.Linear(256, 256)   # skip: in + out\n",
        "\n",
        "        # blocco 2\n",
        "        self.b2_1 = nn.Linear(256, 192)\n",
        "        self.b2_2 = nn.Linear(192, 192)   # skip\n",
        "\n",
        "        # blocco 3\n",
        "        self.b3_1 = nn.Linear(192, 128)\n",
        "        self.b3_2 = nn.Linear(128, 128)   # skip\n",
        "\n",
        "        # testa finale\n",
        "        self.fc4 = nn.Linear(128, 64)\n",
        "        self.fc5 = nn.Linear(64, 64)\n",
        "        self.out = nn.Linear(64, 1)\n",
        "\n",
        "        self.act = nn.Tanh()\n",
        "\n",
        "    def forward(self, xmu):\n",
        "        x = self.act(self.fc_in(xmu))       # 4 → 256\n",
        "\n",
        "        # ---- blocco 1 ------------------------------------------------\n",
        "        h = self.act(self.b1_1(x))\n",
        "        h = self.act(self.b1_2(h))\n",
        "        x = x + h                           # skip (256)\n",
        "\n",
        "        # ---- blocco 2 ------------------------------------------------\n",
        "        h = self.act(self.b2_1(x))          # 256 → 192\n",
        "        h = self.act(self.b2_2(h))\n",
        "        x = h + nn.functional.pad(x, (0, -64))  # align dims 256→192\n",
        "\n",
        "        # ---- blocco 3 ------------------------------------------------\n",
        "        h = self.act(self.b3_1(x))          # 192 → 128\n",
        "        h = self.act(self.b3_2(h))\n",
        "        x = h + x[:, :128]                  # skip (taglia a 128)\n",
        "\n",
        "        # ---- testa finale -------------------------------------------\n",
        "        x = self.act(self.fc4(x))\n",
        "        x = self.act(self.fc5(x))\n",
        "        return self.out(x)"
      ]
    },
    {
      "cell_type": "code",
      "source": [
        "def set_seed(seed=23):\n",
        "    random.seed(seed)                        # seed Python random\n",
        "    np.random.seed(seed)                     # seed numpy random\n",
        "    torch.manual_seed(seed)                  # seed CPU\n",
        "    torch.cuda.manual_seed(seed)             # seed GPU (if available)\n",
        "    torch.cuda.manual_seed_all(seed)         # se hai più GPU\n",
        "    torch.backends.cudnn.deterministic = True\n",
        "    torch.backends.cudnn.benchmark = False\n"
      ],
      "metadata": {
        "id": "oBFshyW2pfXo"
      },
      "execution_count": 3,
      "outputs": []
    },
    {
      "cell_type": "code",
      "source": [
        "seed = 23\n",
        "set_seed(seed)"
      ],
      "metadata": {
        "id": "0rfCIMVnpSD2"
      },
      "execution_count": 4,
      "outputs": []
    },
    {
      "cell_type": "code",
      "source": [
        "# ------------------------ Calcolo del residuo PDE ------------------------\n",
        "def pde_residual(xmu, net):\n",
        "    \"\"\"\n",
        "    Calcola il residuo della PDE in ogni punto (interno al dominio)\n",
        "    -xmu: tensor Nx4 con (x0, x1, mu0, mu1)\n",
        "    -net: la rete neurale che approssima u\n",
        "    \"\"\"\n",
        "    xmu.requires_grad_(True)      # necessario per calcolare derivate rispetto a xmu\n",
        "    u = net(xmu)                 # output della rete: u(x,mu)\n",
        "\n",
        "    # Calcolo gradiente di u rispetto a input (x0, x1) per le derivate prime\n",
        "    grads = torch.autograd.grad(u.sum(), xmu, create_graph=True)[0]\n",
        "    u_x0 = grads[:, 0:1]          # ∂u/∂x0\n",
        "    u_x1 = grads[:, 1:2]          # ∂u/∂x1\n",
        "\n",
        "    # Calcolo derivate seconde per laplaciano\n",
        "    u_x0x0 = torch.autograd.grad(u_x0.sum(), xmu, create_graph=True)[0][:, 0:1]  # ∂²u/∂x0²\n",
        "    u_x1x1 = torch.autograd.grad(u_x1.sum(), xmu, create_graph=True)[0][:, 1:2]  # ∂²u/∂x1²\n",
        "    laplacian_u = u_x0x0 + u_x1x1  # ∆u\n",
        "\n",
        "    # Estrazione parametri mu0 e mu1\n",
        "    mu0 = xmu[:, 2:3]\n",
        "    mu1 = xmu[:, 3:4]\n",
        "\n",
        "    # Coordinate spaziali\n",
        "    x0 = xmu[:, 0:1]\n",
        "    x1 = xmu[:, 1:2]\n",
        "\n",
        "    # Termine sorgente g(x;mu) NUOVO EPER 2\n",
        "    g = 100 * torch.sin(2 * np.pi *mu0* x0) * torch.cos(2 * np.pi *mu0* x1)\n",
        "\n",
        "    # Termine non lineare con mu0, mu1\n",
        "    nonlinear = (mu0 / mu1) * (torch.exp(mu1 * u) - 1)\n",
        "\n",
        "    # Residuo PDE: -∆u + nonlinear - g = 0\n",
        "    residual = -laplacian_u + nonlinear - g\n",
        "    return residual"
      ],
      "metadata": {
        "id": "PH64bh8rpohD"
      },
      "execution_count": 8,
      "outputs": []
    },
    {
      "cell_type": "code",
      "source": [
        "# ------------------------ Generazione punti dominio e bordo ------------------------\n",
        "def generate_domain_points(N_interior, N_boundary, mu0_range, mu1_range):\n",
        "    \"\"\"\n",
        "    Genera punti interni e di bordo del dominio con campionamento uniforme\n",
        "    anche dei parametri mu0, mu1 negli intervalli specificati\n",
        "    \"\"\"\n",
        "    mu0_min, mu0_max = mu0_range\n",
        "    mu1_min, mu1_max = mu1_range\n",
        "\n",
        "    # --- Punti interni ---\n",
        "    x0 = torch.rand(N_interior, 1)  # coordinate x0 in (0,1)\n",
        "    x1 = torch.rand(N_interior, 1)  # coordinate x1 in (0,1)\n",
        "    mu0 = mu0_min + (mu0_max - mu0_min) * torch.rand(N_interior, 1)  # parametri mu0 casuali nell’intervallo\n",
        "    mu1 = mu1_min + (mu1_max - mu1_min) * torch.rand(N_interior, 1)  # parametri mu1 casuali nell’intervallo\n",
        "    xmu_interior = torch.cat([x0, x1, mu0, mu1], dim=1)\n",
        "\n",
        "    # --- Punti sul bordo ---\n",
        "    xb = []\n",
        "    for side in range(4):\n",
        "        s = torch.rand(N_boundary, 1)          # coordinata variabile sul lato\n",
        "        zeros = torch.zeros_like(s)             # vettore di zeri\n",
        "        ones = torch.ones_like(s)               # vettore di uni\n",
        "\n",
        "        if side == 0:\n",
        "            # lato inferiore y=0\n",
        "            x0b, x1b = s, zeros\n",
        "        elif side == 1:\n",
        "            # lato superiore y=1\n",
        "            x0b, x1b = s, ones\n",
        "        elif side == 2:\n",
        "            # lato sinistro x=0\n",
        "            x0b, x1b = zeros, s\n",
        "        else:\n",
        "            # lato destro x=1\n",
        "            x0b, x1b = ones, s\n",
        "\n",
        "        mu0b = mu0_min + (mu0_max - mu0_min) * torch.rand(N_boundary, 1)  # mu0 bordo\n",
        "        mu1b = mu1_min + (mu1_max - mu1_min) * torch.rand(N_boundary, 1)  # mu1 bordo\n",
        "\n",
        "        xb.append(torch.cat([x0b, x1b, mu0b, mu1b], dim=1))\n",
        "\n",
        "    xmu_boundary = torch.cat(xb, dim=0)\n",
        "    n_boundary_points = len(xmu_boundary)\n",
        "\n",
        "\n",
        "\n",
        "    return xmu_interior, xmu_boundary"
      ],
      "metadata": {
        "id": "i2yW0GYupprf"
      },
      "execution_count": 9,
      "outputs": []
    },
    {
      "cell_type": "code",
      "source": [
        "\n",
        "def train_pinn_poly(\n",
        "        net, net_name,\n",
        "        epochs=20000, N_interior=1500, N_boundary=200,\n",
        "        lr=1e-3, mu0_range=(0.1, 1.0), mu1_range=(0.1, 1.0),\n",
        "        power=2.0, seed=23,\n",
        "        lambda_weight=1.0,               # <-- aggiunto parametro lambda di default 1.0\n",
        "        csv_path=None,\n",
        "        log_step=200\n",
        "):\n",
        "    # Se non specificato, crea il nome del file CSV includendo lambda_weight\n",
        "    if csv_path is None:\n",
        "        csv_path = f\"training_log_lambda{lambda_weight:.3f}.csv\"\n",
        "\n",
        "    # reproducibility --------------------------------------------------\n",
        "    if seed is not None:\n",
        "        torch.manual_seed(seed)\n",
        "        np.random.seed(seed)\n",
        "        random.seed(seed)\n",
        "        if torch.cuda.is_available():\n",
        "            torch.cuda.manual_seed_all(seed)\n",
        "\n",
        "    device = torch.device(\"cuda\" if torch.cuda.is_available() else \"cpu\")\n",
        "    net.to(device)\n",
        "\n",
        "    optimizer = torch.optim.Adam(net.parameters(), lr=lr)\n",
        "    scheduler = LambdaLR(optimizer, lr_lambda=lambda epoch: (1 - epoch / epochs) ** power)\n",
        "\n",
        "    # prepara CSV ------------------------------------------------------\n",
        "    first_write = not os.path.exists(csv_path)\n",
        "    with open(csv_path, \"a\", newline=\"\") as csv_file:\n",
        "        writer = csv.writer(csv_file)\n",
        "        if first_write:\n",
        "            writer.writerow([\"net\", \"epoch\",\n",
        "                             \"loss\", \"pde_loss\", \"bc_loss\",\n",
        "                             \"epoch_time_s\", \"elapsed_s\", \"lambda_weight\"])\n",
        "\n",
        "    # training ---------------------------------------------------------\n",
        "    t0 = time.time()\n",
        "    prev_time = t0\n",
        "\n",
        "    for epoch in range(1, epochs + 1):\n",
        "        optimizer.zero_grad()\n",
        "        net.train()\n",
        "\n",
        "        # sample points\n",
        "        # sono i punti che uso ad ogni epoca per addestrarre come se fosserro un unico grande batch\n",
        "        # in questo caso 1500 punti interni e 200*4 punti sui bordi ad ogni epoca\n",
        "\n",
        "        xmu_int, xmu_bnd = generate_domain_points(\n",
        "            N_interior, N_boundary, mu0_range, mu1_range\n",
        "        )\n",
        "        xmu_int, xmu_bnd = xmu_int.to(device), xmu_bnd.to(device)\n",
        "\n",
        "        # losses\n",
        "        res_int  = pde_residual(xmu_int, net)\n",
        "        loss_pde = torch.mean(res_int ** 2)\n",
        "        u_bnd    = net(xmu_bnd)\n",
        "        loss_bc  = torch.mean(u_bnd ** 2)\n",
        "        loss     = loss_pde + lambda_weight * loss_bc    # usa lambda_weight qui\n",
        "\n",
        "        # optimise\n",
        "        loss.backward()\n",
        "        optimizer.step()\n",
        "        scheduler.step()\n",
        "\n",
        "        # timing\n",
        "        now = time.time()\n",
        "        epoch_time = now - prev_time\n",
        "        elapsed    = now - t0\n",
        "        prev_time  = now\n",
        "\n",
        "\n",
        "        if epoch % log_step == 0 or epoch == 1 or epoch == epochs:\n",
        "            log = (f\"[{net_name}] Ep {epoch}: \"\n",
        "                   f\"loss={loss.item():.6f}, pde={loss_pde.item():.6f}, \"\n",
        "                   f\"bc={loss_bc.item():.6f}, λ={lambda_weight:.3f}, \"\n",
        "                   f\"dt={epoch_time:.3f}s, \"\n",
        "                   f\"elapsed={elapsed/60:.1f}m\")\n",
        "            print(log)\n",
        "\n",
        "            with open(csv_path, \"a\", newline=\"\") as csv_file:\n",
        "                writer = csv.writer(csv_file)\n",
        "                writer.writerow([net_name, epoch,\n",
        "                                 f\"{loss.item():.6f}\",\n",
        "                                 f\"{loss_pde.item():.6f}\",\n",
        "                                 f\"{loss_bc.item():.6f}\",\n",
        "                                 f\"{epoch_time:.3f}\",\n",
        "                                 f\"{elapsed:.3f}\",\n",
        "                                 f\"{lambda_weight:.3f}\"])\n",
        "\n",
        "    total_min = (time.time() - t0) / 60\n",
        "    print(f\"{net_name} training complete in {total_min:.1f} min \"\n",
        "          f\"(final loss {loss.item():.6f})\")\n"
      ],
      "metadata": {
        "id": "VfQ29fWap2UP"
      },
      "execution_count": 10,
      "outputs": []
    },
    {
      "cell_type": "markdown",
      "source": [
        "**ORA ADDESTRO AL RETE CHE HO USATO NELL'ES1: NET11**"
      ],
      "metadata": {
        "id": "CiBYNyIUpqMP"
      }
    },
    {
      "cell_type": "code",
      "source": [
        "\n",
        "# Addestra tutte le reti e salva i risultati\n",
        "lambda_values = [1.0]\n",
        "net = Net11()\n",
        "net_name = 'Net11()'\n",
        "train_pinn_poly(\n",
        "        net=net,\n",
        "        net_name=net_name,\n",
        "        lambda_weight=1.0)\n"
      ],
      "metadata": {
        "colab": {
          "base_uri": "https://localhost:8080/"
        },
        "id": "sR--OS_GoktG",
        "outputId": "6bd6660e-a7a4-4859-bfd7-4b2bea803f59"
      },
      "execution_count": 11,
      "outputs": [
        {
          "output_type": "stream",
          "name": "stdout",
          "text": [
            "[Net11()] Ep 1: loss=2400.819336, pde=2400.816162, bc=0.003235, λ=1.000, dt=0.825s, elapsed=0.0m\n",
            "[Net11()] Ep 200: loss=44.433414, pde=36.974079, bc=7.459336, λ=1.000, dt=0.021s, elapsed=0.1m\n",
            "[Net11()] Ep 400: loss=22.730743, pde=20.203077, bc=2.527665, λ=1.000, dt=0.019s, elapsed=0.1m\n",
            "[Net11()] Ep 600: loss=5.245775, pde=3.550380, bc=1.695395, λ=1.000, dt=0.019s, elapsed=0.2m\n",
            "[Net11()] Ep 800: loss=3.823333, pde=2.423090, bc=1.400243, λ=1.000, dt=0.019s, elapsed=0.3m\n",
            "[Net11()] Ep 1000: loss=5.496253, pde=4.530099, bc=0.966154, λ=1.000, dt=0.019s, elapsed=0.4m\n",
            "[Net11()] Ep 1200: loss=1.923845, pde=1.115642, bc=0.808203, λ=1.000, dt=0.019s, elapsed=0.4m\n",
            "[Net11()] Ep 1400: loss=4.280752, pde=3.431996, bc=0.848756, λ=1.000, dt=0.019s, elapsed=0.5m\n",
            "[Net11()] Ep 1600: loss=1.384222, pde=0.732410, bc=0.651812, λ=1.000, dt=0.019s, elapsed=0.6m\n",
            "[Net11()] Ep 1800: loss=1.736830, pde=1.172456, bc=0.564374, λ=1.000, dt=0.020s, elapsed=0.6m\n",
            "[Net11()] Ep 2000: loss=1.795762, pde=1.344800, bc=0.450962, λ=1.000, dt=0.020s, elapsed=0.7m\n",
            "[Net11()] Ep 2200: loss=4.237375, pde=3.804737, bc=0.432638, λ=1.000, dt=0.019s, elapsed=0.8m\n",
            "[Net11()] Ep 2400: loss=1.847607, pde=1.435011, bc=0.412596, λ=1.000, dt=0.019s, elapsed=0.8m\n",
            "[Net11()] Ep 2600: loss=2.068053, pde=1.653838, bc=0.414215, λ=1.000, dt=0.019s, elapsed=0.9m\n",
            "[Net11()] Ep 2800: loss=1.785078, pde=1.459439, bc=0.325638, λ=1.000, dt=0.019s, elapsed=1.0m\n",
            "[Net11()] Ep 3000: loss=0.791724, pde=0.498493, bc=0.293231, λ=1.000, dt=0.019s, elapsed=1.1m\n",
            "[Net11()] Ep 3200: loss=4.934796, pde=4.621552, bc=0.313245, λ=1.000, dt=0.019s, elapsed=1.1m\n",
            "[Net11()] Ep 3400: loss=1.114819, pde=0.832224, bc=0.282595, λ=1.000, dt=0.033s, elapsed=1.2m\n",
            "[Net11()] Ep 3600: loss=1.041067, pde=0.768363, bc=0.272704, λ=1.000, dt=0.019s, elapsed=1.3m\n",
            "[Net11()] Ep 3800: loss=0.569418, pde=0.350737, bc=0.218682, λ=1.000, dt=0.031s, elapsed=1.3m\n",
            "[Net11()] Ep 4000: loss=4.731606, pde=4.506221, bc=0.225385, λ=1.000, dt=0.026s, elapsed=1.4m\n",
            "[Net11()] Ep 4200: loss=0.723800, pde=0.513083, bc=0.210718, λ=1.000, dt=0.019s, elapsed=1.5m\n",
            "[Net11()] Ep 4400: loss=0.387408, pde=0.190762, bc=0.196645, λ=1.000, dt=0.028s, elapsed=1.5m\n",
            "[Net11()] Ep 4600: loss=0.606685, pde=0.431574, bc=0.175111, λ=1.000, dt=0.030s, elapsed=1.6m\n",
            "[Net11()] Ep 4800: loss=6.361678, pde=6.159817, bc=0.201861, λ=1.000, dt=0.019s, elapsed=1.7m\n",
            "[Net11()] Ep 5000: loss=0.452051, pde=0.289603, bc=0.162448, λ=1.000, dt=0.019s, elapsed=1.7m\n",
            "[Net11()] Ep 5200: loss=0.283385, pde=0.131266, bc=0.152118, λ=1.000, dt=0.019s, elapsed=1.8m\n",
            "[Net11()] Ep 5400: loss=6.143102, pde=6.008484, bc=0.134617, λ=1.000, dt=0.020s, elapsed=1.9m\n",
            "[Net11()] Ep 5600: loss=2.691883, pde=2.566365, bc=0.125518, λ=1.000, dt=0.025s, elapsed=2.0m\n",
            "[Net11()] Ep 5800: loss=0.483301, pde=0.360459, bc=0.122842, λ=1.000, dt=0.019s, elapsed=2.0m\n",
            "[Net11()] Ep 6000: loss=0.441536, pde=0.325647, bc=0.115889, λ=1.000, dt=0.019s, elapsed=2.1m\n",
            "[Net11()] Ep 6200: loss=0.528025, pde=0.406047, bc=0.121977, λ=1.000, dt=0.019s, elapsed=2.2m\n",
            "[Net11()] Ep 6400: loss=0.263896, pde=0.167652, bc=0.096243, λ=1.000, dt=0.019s, elapsed=2.2m\n",
            "[Net11()] Ep 6600: loss=0.223878, pde=0.132537, bc=0.091342, λ=1.000, dt=0.020s, elapsed=2.3m\n",
            "[Net11()] Ep 6800: loss=0.522072, pde=0.421642, bc=0.100430, λ=1.000, dt=0.019s, elapsed=2.4m\n",
            "[Net11()] Ep 7000: loss=0.221688, pde=0.134773, bc=0.086914, λ=1.000, dt=0.019s, elapsed=2.4m\n",
            "[Net11()] Ep 7200: loss=0.518891, pde=0.436329, bc=0.082562, λ=1.000, dt=0.021s, elapsed=2.5m\n",
            "[Net11()] Ep 7400: loss=0.542953, pde=0.458184, bc=0.084769, λ=1.000, dt=0.020s, elapsed=2.6m\n",
            "[Net11()] Ep 7600: loss=0.162000, pde=0.093912, bc=0.068088, λ=1.000, dt=0.020s, elapsed=2.7m\n",
            "[Net11()] Ep 7800: loss=0.163398, pde=0.095624, bc=0.067774, λ=1.000, dt=0.019s, elapsed=2.7m\n",
            "[Net11()] Ep 8000: loss=0.125857, pde=0.058754, bc=0.067103, λ=1.000, dt=0.031s, elapsed=2.8m\n",
            "[Net11()] Ep 8200: loss=0.191937, pde=0.133106, bc=0.058831, λ=1.000, dt=0.019s, elapsed=2.9m\n",
            "[Net11()] Ep 8400: loss=0.143288, pde=0.089363, bc=0.053925, λ=1.000, dt=0.019s, elapsed=2.9m\n",
            "[Net11()] Ep 8600: loss=0.131643, pde=0.068966, bc=0.062677, λ=1.000, dt=0.025s, elapsed=3.0m\n",
            "[Net11()] Ep 8800: loss=0.146451, pde=0.088990, bc=0.057460, λ=1.000, dt=0.019s, elapsed=3.1m\n",
            "[Net11()] Ep 9000: loss=0.487741, pde=0.439132, bc=0.048609, λ=1.000, dt=0.019s, elapsed=3.1m\n",
            "[Net11()] Ep 9200: loss=0.348049, pde=0.298718, bc=0.049331, λ=1.000, dt=0.024s, elapsed=3.2m\n",
            "[Net11()] Ep 9400: loss=0.380356, pde=0.324793, bc=0.055563, λ=1.000, dt=0.019s, elapsed=3.3m\n",
            "[Net11()] Ep 9600: loss=0.522345, pde=0.473356, bc=0.048988, λ=1.000, dt=0.019s, elapsed=3.3m\n",
            "[Net11()] Ep 9800: loss=0.181034, pde=0.133616, bc=0.047418, λ=1.000, dt=0.030s, elapsed=3.4m\n",
            "[Net11()] Ep 10000: loss=0.837474, pde=0.795798, bc=0.041676, λ=1.000, dt=0.020s, elapsed=3.5m\n",
            "[Net11()] Ep 10200: loss=0.106050, pde=0.063439, bc=0.042611, λ=1.000, dt=0.028s, elapsed=3.6m\n",
            "[Net11()] Ep 10400: loss=0.122557, pde=0.085732, bc=0.036825, λ=1.000, dt=0.019s, elapsed=3.6m\n",
            "[Net11()] Ep 10600: loss=0.102526, pde=0.063875, bc=0.038651, λ=1.000, dt=0.019s, elapsed=3.7m\n",
            "[Net11()] Ep 10800: loss=0.089732, pde=0.054874, bc=0.034858, λ=1.000, dt=0.020s, elapsed=3.8m\n",
            "[Net11()] Ep 11000: loss=0.260894, pde=0.221669, bc=0.039225, λ=1.000, dt=0.021s, elapsed=3.8m\n",
            "[Net11()] Ep 11200: loss=0.100747, pde=0.062867, bc=0.037880, λ=1.000, dt=0.021s, elapsed=3.9m\n",
            "[Net11()] Ep 11400: loss=0.153611, pde=0.119174, bc=0.034437, λ=1.000, dt=0.019s, elapsed=4.0m\n",
            "[Net11()] Ep 11600: loss=0.096701, pde=0.063959, bc=0.032742, λ=1.000, dt=0.021s, elapsed=4.1m\n",
            "[Net11()] Ep 11800: loss=0.082259, pde=0.048391, bc=0.033868, λ=1.000, dt=0.020s, elapsed=4.1m\n",
            "[Net11()] Ep 12000: loss=0.092595, pde=0.061569, bc=0.031025, λ=1.000, dt=0.019s, elapsed=4.2m\n",
            "[Net11()] Ep 12200: loss=0.064890, pde=0.034697, bc=0.030193, λ=1.000, dt=0.020s, elapsed=4.3m\n",
            "[Net11()] Ep 12400: loss=0.091795, pde=0.061657, bc=0.030137, λ=1.000, dt=0.020s, elapsed=4.3m\n",
            "[Net11()] Ep 12600: loss=0.080395, pde=0.048884, bc=0.031511, λ=1.000, dt=0.021s, elapsed=4.4m\n",
            "[Net11()] Ep 12800: loss=0.092162, pde=0.061875, bc=0.030287, λ=1.000, dt=0.020s, elapsed=4.5m\n",
            "[Net11()] Ep 13000: loss=0.056137, pde=0.028759, bc=0.027378, λ=1.000, dt=0.020s, elapsed=4.5m\n",
            "[Net11()] Ep 13200: loss=0.071866, pde=0.041170, bc=0.030696, λ=1.000, dt=0.029s, elapsed=4.6m\n",
            "[Net11()] Ep 13400: loss=0.095839, pde=0.071020, bc=0.024820, λ=1.000, dt=0.021s, elapsed=4.7m\n",
            "[Net11()] Ep 13600: loss=0.058631, pde=0.034978, bc=0.023654, λ=1.000, dt=0.020s, elapsed=4.7m\n",
            "[Net11()] Ep 13800: loss=0.050012, pde=0.024946, bc=0.025066, λ=1.000, dt=0.031s, elapsed=4.8m\n",
            "[Net11()] Ep 14000: loss=0.041495, pde=0.018945, bc=0.022550, λ=1.000, dt=0.019s, elapsed=4.9m\n",
            "[Net11()] Ep 14200: loss=0.093779, pde=0.069774, bc=0.024005, λ=1.000, dt=0.020s, elapsed=4.9m\n",
            "[Net11()] Ep 14400: loss=0.043228, pde=0.019118, bc=0.024111, λ=1.000, dt=0.028s, elapsed=5.0m\n",
            "[Net11()] Ep 14600: loss=0.054861, pde=0.029394, bc=0.025467, λ=1.000, dt=0.020s, elapsed=5.1m\n",
            "[Net11()] Ep 14800: loss=0.042591, pde=0.021085, bc=0.021505, λ=1.000, dt=0.019s, elapsed=5.2m\n",
            "[Net11()] Ep 15000: loss=0.042785, pde=0.019680, bc=0.023105, λ=1.000, dt=0.020s, elapsed=5.2m\n",
            "[Net11()] Ep 15200: loss=0.037973, pde=0.018462, bc=0.019511, λ=1.000, dt=0.019s, elapsed=5.3m\n",
            "[Net11()] Ep 15400: loss=0.046451, pde=0.026001, bc=0.020449, λ=1.000, dt=0.020s, elapsed=5.4m\n",
            "[Net11()] Ep 15600: loss=0.045356, pde=0.025908, bc=0.019448, λ=1.000, dt=0.020s, elapsed=5.4m\n",
            "[Net11()] Ep 15800: loss=0.043023, pde=0.023213, bc=0.019810, λ=1.000, dt=0.019s, elapsed=5.5m\n",
            "[Net11()] Ep 16000: loss=0.035431, pde=0.015424, bc=0.020007, λ=1.000, dt=0.020s, elapsed=5.6m\n",
            "[Net11()] Ep 16200: loss=0.039391, pde=0.019711, bc=0.019680, λ=1.000, dt=0.020s, elapsed=5.7m\n",
            "[Net11()] Ep 16400: loss=0.036357, pde=0.017815, bc=0.018543, λ=1.000, dt=0.019s, elapsed=5.7m\n",
            "[Net11()] Ep 16600: loss=0.038509, pde=0.018802, bc=0.019708, λ=1.000, dt=0.019s, elapsed=5.8m\n",
            "[Net11()] Ep 16800: loss=0.036463, pde=0.016401, bc=0.020062, λ=1.000, dt=0.023s, elapsed=5.9m\n",
            "[Net11()] Ep 17000: loss=0.035265, pde=0.017816, bc=0.017449, λ=1.000, dt=0.019s, elapsed=5.9m\n",
            "[Net11()] Ep 17200: loss=0.031871, pde=0.013104, bc=0.018766, λ=1.000, dt=0.020s, elapsed=6.0m\n",
            "[Net11()] Ep 17400: loss=0.032387, pde=0.013941, bc=0.018446, λ=1.000, dt=0.020s, elapsed=6.1m\n",
            "[Net11()] Ep 17600: loss=0.032192, pde=0.013682, bc=0.018510, λ=1.000, dt=0.019s, elapsed=6.1m\n",
            "[Net11()] Ep 17800: loss=0.030948, pde=0.012965, bc=0.017983, λ=1.000, dt=0.027s, elapsed=6.2m\n",
            "[Net11()] Ep 18000: loss=0.031176, pde=0.013831, bc=0.017345, λ=1.000, dt=0.020s, elapsed=6.3m\n",
            "[Net11()] Ep 18200: loss=0.035828, pde=0.018803, bc=0.017025, λ=1.000, dt=0.020s, elapsed=6.3m\n",
            "[Net11()] Ep 18400: loss=0.028631, pde=0.010939, bc=0.017692, λ=1.000, dt=0.027s, elapsed=6.4m\n",
            "[Net11()] Ep 18600: loss=0.029546, pde=0.011841, bc=0.017705, λ=1.000, dt=0.019s, elapsed=6.5m\n",
            "[Net11()] Ep 18800: loss=0.032347, pde=0.013787, bc=0.018559, λ=1.000, dt=0.019s, elapsed=6.6m\n",
            "[Net11()] Ep 19000: loss=0.027883, pde=0.011132, bc=0.016752, λ=1.000, dt=0.027s, elapsed=6.6m\n",
            "[Net11()] Ep 19200: loss=0.028537, pde=0.011116, bc=0.017421, λ=1.000, dt=0.023s, elapsed=6.7m\n",
            "[Net11()] Ep 19400: loss=0.028352, pde=0.009976, bc=0.018375, λ=1.000, dt=0.019s, elapsed=6.8m\n",
            "[Net11()] Ep 19600: loss=0.026638, pde=0.009851, bc=0.016786, λ=1.000, dt=0.022s, elapsed=6.8m\n",
            "[Net11()] Ep 19800: loss=0.028215, pde=0.011188, bc=0.017026, λ=1.000, dt=0.019s, elapsed=6.9m\n",
            "[Net11()] Ep 20000: loss=0.028495, pde=0.011649, bc=0.016845, λ=1.000, dt=0.019s, elapsed=7.0m\n",
            "Net11() training complete in 7.0 min (final loss 0.028495)\n"
          ]
        }
      ]
    },
    {
      "cell_type": "code",
      "source": [
        "quadr_coords = []\n",
        "file_path = \"/content/SolutionOnPoints_0.inp\"\n",
        "\n",
        "with open(file_path, \"r\") as f:\n",
        "    next(f)  # salto header se serve\n",
        "    for line in f:\n",
        "        parts = line.strip().split()\n",
        "        if len(parts) < 4:\n",
        "            continue\n",
        "        # Provo a convertire, se fallisce salto la riga\n",
        "        try:\n",
        "            idx = int(parts[0])\n",
        "            x = float(parts[1])\n",
        "            y = float(parts[2])\n",
        "        except ValueError:\n",
        "            # Righe non dati, le salto\n",
        "            continue\n",
        "\n",
        "        quadr_coords.append((x, y))\n",
        "quadr_coords = np.array(quadr_coords)  # shape (N,2)\n",
        "print(\"Coordinate shape:\", quadr_coords.shape)\n",
        "print(\"Prime 5 coordinate:\", quadr_coords[:5])\n",
        "print(quadr_coords.shape)\n"
      ],
      "metadata": {
        "colab": {
          "base_uri": "https://localhost:8080/"
        },
        "id": "0RIIKx1yFtGA",
        "outputId": "dedb51d6-f2c0-425e-f4dd-764a7e498582"
      },
      "execution_count": 12,
      "outputs": [
        {
          "output_type": "stream",
          "name": "stdout",
          "text": [
            "Coordinate shape: (4623, 2)\n",
            "Prime 5 coordinate: [[0.9298771  0.46188024]\n",
            " [0.91123877 0.45266557]\n",
            " [0.93072317 0.44540916]\n",
            " [0.48698419 0.27382701]\n",
            " [0.4980866  0.26058181]]\n",
            "(4623, 2)\n"
          ]
        }
      ]
    },
    {
      "cell_type": "code",
      "source": [
        "# Choose new random seed bc we need a new test set\n",
        "#np.random.seed(23) #gia fatto sopra\n",
        "\n",
        "test_set = np.random.uniform(low=0.1, high=1, size=(100, 2)) # test set\n",
        "test_set[-1]"
      ],
      "metadata": {
        "id": "PV-X8fwshC_9",
        "colab": {
          "base_uri": "https://localhost:8080/"
        },
        "outputId": "63b417d2-300e-4207-abfb-452dbd300e70"
      },
      "execution_count": 13,
      "outputs": [
        {
          "output_type": "execute_result",
          "data": {
            "text/plain": [
              "array([0.84508049, 0.3486542 ])"
            ]
          },
          "metadata": {},
          "execution_count": 13
        }
      ]
    },
    {
      "cell_type": "code",
      "source": [
        "import pandas as pd\n",
        "device = torch.device(\"cuda\" if torch.cuda.is_available() else \"cpu\")\n",
        "net.eval() # gia sta in gpu dal train\n",
        "\n",
        "coords_tensor = torch.tensor(quadr_coords, dtype=torch.float32)  # (N, 2)\n",
        "\n",
        "all_preds = []  # lista per salvare le predizioni per ogni mu\n",
        "\n",
        "with torch.no_grad():\n",
        "    for mu in test_set:\n",
        "        mu0_val, mu1_val = mu\n",
        "\n",
        "        mu0_tensor = torch.full((coords_tensor.shape[0], 1), fill_value=mu0_val, dtype=torch.float32)\n",
        "        mu1_tensor = torch.full((coords_tensor.shape[0], 1), fill_value=mu1_val, dtype=torch.float32)\n",
        "\n",
        "        inputs = torch.cat([coords_tensor, mu0_tensor, mu1_tensor], dim=1)  # (N,4)\n",
        "        inputs = inputs.to(device) #manda in gpu\n",
        "        u_pred = net(inputs).cpu().numpy().flatten()  # (N,)\n",
        "\n",
        "        all_preds.append(u_pred)\n",
        "\n",
        "# Trasponi per avere righe = punti quadratura, colonne = diversi mu\n",
        "all_preds = np.array(all_preds).T  # shape (N_punti, N_mu)\n",
        "\n",
        "# Crea nomi colonne (es: mu0_0.5_mu1_0.5)\n",
        "col_names = [f\"mu0_{mu[0]:.3f}_mu1_{mu[1]:.3f}\" for mu in test_set]\n",
        "\n",
        "# Crea DataFrame pandas\n",
        "df = pd.DataFrame(all_preds, columns=col_names)\n",
        "\n",
        "# Salva su CSV\n",
        "df.to_csv(\"predizioni_punti_quadratura_net11_es2.csv\", index=False)\n",
        "\n",
        "print(\"Salvataggio completato: predizioni_punti_quadratura_net11_es2.csv\")\n"
      ],
      "metadata": {
        "colab": {
          "base_uri": "https://localhost:8080/"
        },
        "id": "rIhz2BjeGinJ",
        "outputId": "c3bf0685-dca6-4cd7-d70f-8fb8f2574c6f"
      },
      "execution_count": 14,
      "outputs": [
        {
          "output_type": "stream",
          "name": "stdout",
          "text": [
            "Salvataggio completato: predizioni_punti_quadratura_net11_es2.csv\n"
          ]
        }
      ]
    },
    {
      "cell_type": "code",
      "source": [
        "last_mu = test_set[-1]\n",
        "last_mu"
      ],
      "metadata": {
        "colab": {
          "base_uri": "https://localhost:8080/"
        },
        "id": "VplhDoX0flcT",
        "outputId": "49b14a02-b4f7-414a-9345-74377788dbc8"
      },
      "execution_count": 15,
      "outputs": [
        {
          "output_type": "execute_result",
          "data": {
            "text/plain": [
              "array([0.84508049, 0.3486542 ])"
            ]
          },
          "metadata": {},
          "execution_count": 15
        }
      ]
    },
    {
      "cell_type": "code",
      "source": [],
      "metadata": {
        "id": "dgcs1ileoo-K"
      },
      "execution_count": 1,
      "outputs": []
    }
  ]
}