{
 "cells": [
  {
   "cell_type": "markdown",
   "id": "725134d2",
   "metadata": {},
   "source": [
    "# 🧠 Stato del lavoro\n",
    "\n",
    "Abbiamo **impostato il sistema con Newton**, ora dobbiamo pensare a **come risolverlo**.\n",
    "\n",
    "> 📌 **GUARDA il Lab 12 per capire come usare Newton e ottenere la HF solution.**\n",
    "\n",
    "---\n",
    "\n",
    "## 📚 Laboratori di riferimento\n",
    "\n",
    "### 🔹 Per soluzione HF:\n",
    "- **Lab 2** – Per vedere come risolvere sistema FEM e ottenere HF;\n",
    "- **Lab 3** – Per vedere come risolvere sistema FEM e ottenere HF;\n",
    "- **Lab 12** – Implementazione del metodo di Newton.\n",
    "\n",
    "### 🔹 Per POD:\n",
    "- **Lab 4** – Costruzione della base POD e riduzione del modello\n",
    "\n",
    "### 🔹 Per PINN:\n",
    "- **Lab 8** – Implementazione dei Physics-Informed Neural Networks\n",
    "\n",
    "### 🔹 Per PODNN:\n",
    "- **Lab 9** – POD + Neural Network\n",
    "\n",
    "---\n",
    "\n",
    "## 🎯 Prossimi step\n",
    "\n",
    "1. ✅ **Capisci termini del Sistema scritto con Newton**\n",
    "2. 🔄 **Capire bene come risolverlo (vedi Lab 12)**\n",
    "3. 🧮 **Calcolare la soluzione esatta**\n"
   ]
  }
 ],
 "metadata": {
  "language_info": {
   "name": "python"
  }
 },
 "nbformat": 4,
 "nbformat_minor": 5
}
